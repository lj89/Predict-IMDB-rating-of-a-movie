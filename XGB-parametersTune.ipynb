{
 "cells": [
  {
   "cell_type": "code",
   "execution_count": 1,
   "metadata": {},
   "outputs": [],
   "source": [
    "import numpy as np # linear algebra\n",
    "import pandas as pd # data processing, CSV file I/O (e.g. pd.read_csv)"
   ]
  },
  {
   "cell_type": "code",
   "execution_count": 2,
   "metadata": {},
   "outputs": [],
   "source": [
    "import xgboost as xgb"
   ]
  },
  {
   "cell_type": "code",
   "execution_count": 3,
   "metadata": {},
   "outputs": [],
   "source": [
    "\n",
    "def timer(start_time=None):\n",
    "    if not start_time:\n",
    "        start_time = datetime.now()\n",
    "        return start_time\n",
    "    \n",
    "    elif start_time:\n",
    "        thour, temp_sec = divmod((datetime.now() - start_time).total_seconds(), 3600)\n",
    "        tmin, tsec = divmod(temp_sec, 60)\n",
    "        print('\\n Time taken: %i hours %i minutes and %s seconds.' % (thour, tmin, round(tsec, 2)))"
   ]
  },
  {
   "cell_type": "code",
   "execution_count": 4,
   "metadata": {},
   "outputs": [
    {
     "data": {
      "text/html": [
       "<div>\n",
       "<style scoped>\n",
       "    .dataframe tbody tr th:only-of-type {\n",
       "        vertical-align: middle;\n",
       "    }\n",
       "\n",
       "    .dataframe tbody tr th {\n",
       "        vertical-align: top;\n",
       "    }\n",
       "\n",
       "    .dataframe thead th {\n",
       "        text-align: right;\n",
       "    }\n",
       "</style>\n",
       "<table border=\"1\" class=\"dataframe\">\n",
       "  <thead>\n",
       "    <tr style=\"text-align: right;\">\n",
       "      <th></th>\n",
       "      <th>id</th>\n",
       "      <th>director_name</th>\n",
       "      <th>num_critic_for_reviews</th>\n",
       "      <th>duration</th>\n",
       "      <th>director_facebook_likes</th>\n",
       "      <th>actor_3_facebook_likes</th>\n",
       "      <th>actor_2_name</th>\n",
       "      <th>actor_1_facebook_likes</th>\n",
       "      <th>gross</th>\n",
       "      <th>actor_1_name</th>\n",
       "      <th>...</th>\n",
       "      <th>content_rating_GP</th>\n",
       "      <th>content_rating_M</th>\n",
       "      <th>content_rating_NC-17</th>\n",
       "      <th>content_rating_Not Rated</th>\n",
       "      <th>content_rating_PG</th>\n",
       "      <th>content_rating_PG-13</th>\n",
       "      <th>content_rating_Passed</th>\n",
       "      <th>content_rating_R</th>\n",
       "      <th>content_rating_Unrated</th>\n",
       "      <th>content_rating_X</th>\n",
       "    </tr>\n",
       "  </thead>\n",
       "  <tbody>\n",
       "    <tr>\n",
       "      <th>0</th>\n",
       "      <td>1.0</td>\n",
       "      <td>538.0</td>\n",
       "      <td>302.0</td>\n",
       "      <td>169.0</td>\n",
       "      <td>563.0</td>\n",
       "      <td>1000.0</td>\n",
       "      <td>1591.0</td>\n",
       "      <td>40000.0</td>\n",
       "      <td>309404152.0</td>\n",
       "      <td>686.0</td>\n",
       "      <td>...</td>\n",
       "      <td>0</td>\n",
       "      <td>0</td>\n",
       "      <td>0</td>\n",
       "      <td>0</td>\n",
       "      <td>0</td>\n",
       "      <td>1</td>\n",
       "      <td>0</td>\n",
       "      <td>0</td>\n",
       "      <td>0</td>\n",
       "      <td>0</td>\n",
       "    </tr>\n",
       "    <tr>\n",
       "      <th>1</th>\n",
       "      <td>2.0</td>\n",
       "      <td>1395.0</td>\n",
       "      <td>602.0</td>\n",
       "      <td>148.0</td>\n",
       "      <td>0.0</td>\n",
       "      <td>161.0</td>\n",
       "      <td>1794.0</td>\n",
       "      <td>11000.0</td>\n",
       "      <td>200074175.0</td>\n",
       "      <td>258.0</td>\n",
       "      <td>...</td>\n",
       "      <td>0</td>\n",
       "      <td>0</td>\n",
       "      <td>0</td>\n",
       "      <td>0</td>\n",
       "      <td>0</td>\n",
       "      <td>1</td>\n",
       "      <td>0</td>\n",
       "      <td>0</td>\n",
       "      <td>0</td>\n",
       "      <td>0</td>\n",
       "    </tr>\n",
       "    <tr>\n",
       "      <th>2</th>\n",
       "      <td>3.0</td>\n",
       "      <td>251.0</td>\n",
       "      <td>813.0</td>\n",
       "      <td>164.0</td>\n",
       "      <td>22000.0</td>\n",
       "      <td>23000.0</td>\n",
       "      <td>381.0</td>\n",
       "      <td>27000.0</td>\n",
       "      <td>448130642.0</td>\n",
       "      <td>1339.0</td>\n",
       "      <td>...</td>\n",
       "      <td>0</td>\n",
       "      <td>0</td>\n",
       "      <td>0</td>\n",
       "      <td>0</td>\n",
       "      <td>0</td>\n",
       "      <td>1</td>\n",
       "      <td>0</td>\n",
       "      <td>0</td>\n",
       "      <td>0</td>\n",
       "      <td>0</td>\n",
       "    </tr>\n",
       "    <tr>\n",
       "      <th>3</th>\n",
       "      <td>5.0</td>\n",
       "      <td>62.0</td>\n",
       "      <td>462.0</td>\n",
       "      <td>132.0</td>\n",
       "      <td>475.0</td>\n",
       "      <td>530.0</td>\n",
       "      <td>1836.0</td>\n",
       "      <td>640.0</td>\n",
       "      <td>73058679.0</td>\n",
       "      <td>323.0</td>\n",
       "      <td>...</td>\n",
       "      <td>0</td>\n",
       "      <td>0</td>\n",
       "      <td>0</td>\n",
       "      <td>0</td>\n",
       "      <td>0</td>\n",
       "      <td>1</td>\n",
       "      <td>0</td>\n",
       "      <td>0</td>\n",
       "      <td>0</td>\n",
       "      <td>0</td>\n",
       "    </tr>\n",
       "    <tr>\n",
       "      <th>4</th>\n",
       "      <td>6.0</td>\n",
       "      <td>1398.0</td>\n",
       "      <td>392.0</td>\n",
       "      <td>156.0</td>\n",
       "      <td>0.0</td>\n",
       "      <td>4000.0</td>\n",
       "      <td>880.0</td>\n",
       "      <td>24000.0</td>\n",
       "      <td>336530303.0</td>\n",
       "      <td>554.0</td>\n",
       "      <td>...</td>\n",
       "      <td>0</td>\n",
       "      <td>0</td>\n",
       "      <td>0</td>\n",
       "      <td>0</td>\n",
       "      <td>0</td>\n",
       "      <td>1</td>\n",
       "      <td>0</td>\n",
       "      <td>0</td>\n",
       "      <td>0</td>\n",
       "      <td>0</td>\n",
       "    </tr>\n",
       "  </tbody>\n",
       "</table>\n",
       "<p>5 rows × 673 columns</p>\n",
       "</div>"
      ],
      "text/plain": [
       "    id  director_name  num_critic_for_reviews  duration  \\\n",
       "0  1.0          538.0                   302.0     169.0   \n",
       "1  2.0         1395.0                   602.0     148.0   \n",
       "2  3.0          251.0                   813.0     164.0   \n",
       "3  5.0           62.0                   462.0     132.0   \n",
       "4  6.0         1398.0                   392.0     156.0   \n",
       "\n",
       "   director_facebook_likes  actor_3_facebook_likes  actor_2_name  \\\n",
       "0                    563.0                  1000.0        1591.0   \n",
       "1                      0.0                   161.0        1794.0   \n",
       "2                  22000.0                 23000.0         381.0   \n",
       "3                    475.0                   530.0        1836.0   \n",
       "4                      0.0                  4000.0         880.0   \n",
       "\n",
       "   actor_1_facebook_likes        gross  actor_1_name  ...  content_rating_GP  \\\n",
       "0                 40000.0  309404152.0         686.0  ...                  0   \n",
       "1                 11000.0  200074175.0         258.0  ...                  0   \n",
       "2                 27000.0  448130642.0        1339.0  ...                  0   \n",
       "3                   640.0   73058679.0         323.0  ...                  0   \n",
       "4                 24000.0  336530303.0         554.0  ...                  0   \n",
       "\n",
       "   content_rating_M  content_rating_NC-17  content_rating_Not Rated  \\\n",
       "0                 0                     0                         0   \n",
       "1                 0                     0                         0   \n",
       "2                 0                     0                         0   \n",
       "3                 0                     0                         0   \n",
       "4                 0                     0                         0   \n",
       "\n",
       "   content_rating_PG  content_rating_PG-13  content_rating_Passed  \\\n",
       "0                  0                     1                      0   \n",
       "1                  0                     1                      0   \n",
       "2                  0                     1                      0   \n",
       "3                  0                     1                      0   \n",
       "4                  0                     1                      0   \n",
       "\n",
       "   content_rating_R  content_rating_Unrated  content_rating_X  \n",
       "0                 0                       0                 0  \n",
       "1                 0                       0                 0  \n",
       "2                 0                       0                 0  \n",
       "3                 0                       0                 0  \n",
       "4                 0                       0                 0  \n",
       "\n",
       "[5 rows x 673 columns]"
      ]
     },
     "execution_count": 4,
     "metadata": {},
     "output_type": "execute_result"
    }
   ],
   "source": [
    "df_raw2= pd.read_csv('df_raw2_train.csv') #import train and validation dataset of 3203 data points\n",
    "df_raw2.head()"
   ]
  },
  {
   "cell_type": "code",
   "execution_count": 5,
   "metadata": {},
   "outputs": [],
   "source": [
    "df_raw3=df_raw2\n",
    "df_raw3.drop(columns=['id','actor_1_name','actor_2_name','actor_3_name','director_name'], inplace=True)"
   ]
  },
  {
   "cell_type": "code",
   "execution_count": 6,
   "metadata": {},
   "outputs": [],
   "source": [
    "df_imputed=df_raw3"
   ]
  },
  {
   "cell_type": "code",
   "execution_count": 7,
   "metadata": {},
   "outputs": [],
   "source": [
    "useless_cols = [\"id\",\"imdb_score\", 'actor_1_name','actor_2_name','actor_3_name','director_name']"
   ]
  },
  {
   "cell_type": "code",
   "execution_count": 8,
   "metadata": {},
   "outputs": [],
   "source": [
    "train_cols = df_raw2.columns[~df_raw2.columns.isin(useless_cols)]\n",
    "X_train = df_raw2[train_cols]\n",
    "y_train = df_raw2[\"imdb_score\"]"
   ]
  },
  {
   "cell_type": "code",
   "execution_count": 9,
   "metadata": {},
   "outputs": [],
   "source": [
    "fake_valid_inds = np.random.choice(X_train.index.values, 600, replace = False)\n",
    "\n",
    "train_inds = np.setdiff1d(X_train.index.values, fake_valid_inds)"
   ]
  },
  {
   "cell_type": "code",
   "execution_count": 10,
   "metadata": {},
   "outputs": [
    {
     "data": {
      "text/plain": [
       "xgboost.core.DMatrix"
      ]
     },
     "execution_count": 10,
     "metadata": {},
     "output_type": "execute_result"
    }
   ],
   "source": [
    "#XGBOOST transform data into DMatrix format for modeling\n",
    "dtrain = xgb.DMatrix(X_train.loc[train_inds], y_train.loc[train_inds])\n",
    "dvalid = xgb.DMatrix(X_train.loc[fake_valid_inds],  y_train.loc[fake_valid_inds])\n",
    "type(dtrain)"
   ]
  },
  {
   "cell_type": "code",
   "execution_count": 11,
   "metadata": {},
   "outputs": [],
   "source": [
    "MAX_ROUNDS = 4000 #1000\n",
    "EARLY_STOP = 500 #50\n",
    "OPT_ROUNDS = 1000\n",
    "VERBOSE_EVAL = 50\n",
    "RANDOM_STATE = 2000"
   ]
  },
  {
   "cell_type": "code",
   "execution_count": 12,
   "metadata": {},
   "outputs": [],
   "source": [
    "# # XGBoost Parameters 2 (inital)\n",
    "# params = {}\n",
    "# #params['objective'] = 'binary:logistic' #binary:hinge\n",
    "# #params['objective'] = 'multi:softmax'\n",
    "# params['objective'] = 'reg:linear'\n",
    "# params['eta'] = 0.039\n",
    "# params['silent'] = True\n",
    "# params['max_depth'] = 2\n",
    "# params['subsample'] = 0.8\n",
    "# params['colsample_bytree'] = 0.9\n",
    "# params['eval_metric'] = 'rmse'  #aucpr: Area under the PR curve\n",
    "# params['random_state'] = RANDOM_STATE\n",
    "\n",
    "\n",
    "# watchlist = [(dtrain, 'train'), (dvalid, 'valid')]"
   ]
  },
  {
   "cell_type": "code",
   "execution_count": 19,
   "metadata": {},
   "outputs": [],
   "source": [
    "\n",
    "# A parameter grid for XGBoost\n",
    "#at least include the parameters already included in the baseline model for chance to find one better than base model.\n",
    "# params = {\n",
    "#         'min_child_weight': [1,2, 5],\n",
    "#         'gamma': [0.5, 1, 2],\n",
    "#         'subsample': [ 0.8,0.6],\n",
    "#         'colsample_bytree': [0.9,0.6],\n",
    "#         'max_depth': [2,3,4, 5,8,9,10,11,12,13,14,15],\n",
    "#         'eta':[0.039,0.05, 0.1, 0.3, 0.5],\n",
    "#         'objective':['reg:linear'],\n",
    "#         'eval_metric':['rmse']\n",
    "    \n",
    "#         }\n",
    "\n",
    "\n",
    "# params = {\n",
    "#         'min_child_weight': [2, 5],\n",
    "#         'gamma': [0.5, 1, 2],\n",
    "#         'subsample': [ 0.8],\n",
    "#         'colsample_bytree': [0.9],\n",
    "#         'max_depth': [3,5,10],\n",
    "#         'eta':[0.039, 0.1],\n",
    "#         'objective':['reg:linear'],\n",
    "#         'eval_metric':['rmse']\n",
    "    \n",
    "#         }\n",
    "\n",
    "# # 4min 0.43117337118712257\n",
    "\n",
    "\n",
    "params = {\n",
    "        'min_child_weight': [1,2, 5],\n",
    "        'gamma': [0.5, 1, 2],\n",
    "        'subsample': [ 0.8,0.6],\n",
    "        'colsample_bytree': [0.9,0.6],\n",
    "        'max_depth': [2,3,4, 5,8,9,10,11,12,15],\n",
    "        'eta':[0.039,0.1, 0.5],\n",
    "        'objective':['reg:linear'],\n",
    "        'eval_metric':['rmse']\n",
    "    \n",
    "        }"
   ]
  },
  {
   "cell_type": "code",
   "execution_count": 20,
   "metadata": {},
   "outputs": [
    {
     "name": "stdout",
     "output_type": "stream",
     "text": [
      "Fitting 2 folds for each of 1080 candidates, totalling 2160 fits\n"
     ]
    },
    {
     "name": "stderr",
     "output_type": "stream",
     "text": [
      "[Parallel(n_jobs=5)]: Using backend LokyBackend with 5 concurrent workers.\n",
      "[Parallel(n_jobs=5)]: Done  40 tasks      | elapsed:   52.3s\n",
      "[Parallel(n_jobs=5)]: Done 190 tasks      | elapsed:  8.9min\n",
      "[Parallel(n_jobs=5)]: Done 440 tasks      | elapsed: 21.2min\n",
      "[Parallel(n_jobs=5)]: Done 790 tasks      | elapsed: 40.6min\n",
      "[Parallel(n_jobs=5)]: Done 1240 tasks      | elapsed: 58.4min\n",
      "[Parallel(n_jobs=5)]: Done 1790 tasks      | elapsed: 73.6min\n",
      "[Parallel(n_jobs=5)]: Done 2160 out of 2160 | elapsed: 88.7min finished\n"
     ]
    },
    {
     "name": "stdout",
     "output_type": "stream",
     "text": [
      "[19:32:35] WARNING: C:/Users/Administrator/workspace/xgboost-win64_release_1.0.0/src/objective/regression_obj.cu:167: reg:linear is now deprecated in favor of reg:squarederror.\n",
      "\n",
      " Time taken: 1 hours 28 minutes and 45.33 seconds.\n"
     ]
    }
   ],
   "source": [
    "#run all grid search will be 45 hours so randomized search\n",
    "#from sklearn.model_selection import StratifiedKFold\n",
    "#from sklearn.model_selection import RandomizedSearchCV\n",
    "from sklearn.model_selection import GridSearchCV\n",
    "from datetime import datetime\n",
    "\n",
    "folds = 3\n",
    "param_comb = 5\n",
    "\n",
    "skf = StratifiedKFold(n_splits=folds, shuffle = True, random_state = 1001)\n",
    "\n",
    "#random_search = RandomizedSearchCV(xgb, param_distributions=params, n_iter=param_comb, scoring='roc_auc', n_jobs=4, cv=skf.split(X_train_scaled,y_train), verbose=50, random_state=2000)\n",
    "\n",
    "xgb_algo = xgb.XGBRegressor()\n",
    "# random_search = RandomizedSearchCV(xgb_algo,\n",
    "#                                    param_distributions=params, n_iter=param_comb, scoring='mse', n_jobs=4, cv=skf.split(X_train,y_train), verbose=50, random_state=2000)\n",
    "xgb_grid = GridSearchCV(xgb_algo,\n",
    "                        params,\n",
    "                        cv = 2,\n",
    "                        n_jobs = 5,\n",
    "                        verbose=True)\n",
    "# Here we go\n",
    "start_time = timer(None) # timing starts from this point for \"start_time\" variable\n",
    "#random_search.fit(X_train, y_train)\n",
    "xgb_grid.fit(X_train, y_train)\n",
    "timer(start_time) # timing ends here for \"start_time\" variable"
   ]
  },
  {
   "cell_type": "code",
   "execution_count": 21,
   "metadata": {},
   "outputs": [
    {
     "name": "stdout",
     "output_type": "stream",
     "text": [
      "0.4553582517343139\n",
      "{'colsample_bytree': 0.9, 'eta': 0.1, 'eval_metric': 'rmse', 'gamma': 0.5, 'max_depth': 4, 'min_child_weight': 1, 'objective': 'reg:linear', 'subsample': 0.6}\n"
     ]
    }
   ],
   "source": [
    "print(xgb_grid.best_score_)\n",
    "print(xgb_grid.best_params_)\n",
    "\n",
    "# 0.4553582517343139\n",
    "# {'colsample_bytree': 0.9, 'eta': 0.1, 'eval_metric': 'rmse', 'gamma': 0.5, 'max_depth': 4, 'min_child_weight': 1, 'objective': 'reg:linear', 'subsample': 0.6}"
   ]
  },
  {
   "cell_type": "code",
   "execution_count": 22,
   "metadata": {},
   "outputs": [],
   "source": [
    "# XGBoost Parameters 2\n",
    "params = {}\n",
    "#params['objective'] = 'binary:logistic' #binary:hinge\n",
    "#params['objective'] = 'multi:softmax'\n",
    "params['objective'] = 'reg:linear'\n",
    "params['eta'] = 0.1\n",
    "params['silent'] = True\n",
    "params['max_depth'] = 4\n",
    "params['subsample'] = 0.6\n",
    "params['colsample_bytree'] = 0.9\n",
    "params['eval_metric'] = 'rmse'  #aucpr: Area under the PR curve\n",
    "params['random_state'] = RANDOM_STATE\n",
    "params['gamma']=0.5\n",
    "params['min_child_weight']=1\n",
    "\n",
    "\n",
    "watchlist = [(dtrain, 'train'), (dvalid, 'valid')]"
   ]
  },
  {
   "cell_type": "code",
   "execution_count": 23,
   "metadata": {},
   "outputs": [
    {
     "name": "stdout",
     "output_type": "stream",
     "text": [
      "[0]\ttrain-rmse:5.44085\tvalid-rmse:5.52995\n",
      "Multiple eval metrics have been passed: 'valid-rmse' will be used for early stopping.\n",
      "\n",
      "Will train until valid-rmse hasn't improved in 500 rounds.\n",
      "[50]\ttrain-rmse:0.53456\tvalid-rmse:0.64813\n",
      "[100]\ttrain-rmse:0.40730\tvalid-rmse:0.63762\n",
      "[150]\ttrain-rmse:0.31695\tvalid-rmse:0.64240\n",
      "[200]\ttrain-rmse:0.25270\tvalid-rmse:0.64361\n",
      "[250]\ttrain-rmse:0.20975\tvalid-rmse:0.64343\n",
      "[300]\ttrain-rmse:0.18319\tvalid-rmse:0.64351\n",
      "[350]\ttrain-rmse:0.17299\tvalid-rmse:0.64326\n",
      "[400]\ttrain-rmse:0.16693\tvalid-rmse:0.64271\n",
      "[450]\ttrain-rmse:0.16495\tvalid-rmse:0.64311\n",
      "[500]\ttrain-rmse:0.16302\tvalid-rmse:0.64264\n",
      "Stopping. Best iteration:\n",
      "[0]\ttrain-rmse:5.44085\tvalid-rmse:5.52995\n",
      "\n",
      "Wall time: 12.4 s\n"
     ]
    }
   ],
   "source": [
    "%%time\n",
    "\n",
    "#m_lgb = lgb.train(params, train_data, valid_sets = [fake_valid_data], verbose_eval=20) \n",
    "\n",
    "#xgb should use all data to train,should not exclude last 28 days ??\n",
    "\n",
    "m_xgb = xgb.train(params,\n",
    "                   dtrain,\n",
    "                   MAX_ROUNDS,\n",
    "                   watchlist,\n",
    "                   early_stopping_rounds = EARLY_STOP,\n",
    "                   maximize = True,\n",
    "                   verbose_eval = VERBOSE_EVAL)"
   ]
  },
  {
   "cell_type": "code",
   "execution_count": 24,
   "metadata": {},
   "outputs": [],
   "source": [
    "useless_cols = [\"id\",\"imdb_score\", 'actor_1_name','actor_2_name','actor_3_name','director_name'] \n",
    "# xgb does not take label encoded directly, need one hot encoded features. \n",
    "# so dropped 'actor_1_name','actor_2_name','actor_3_name','director_name'\n",
    "\n",
    "train_cols = df_raw2.columns[~df_raw2.columns.isin(useless_cols)]"
   ]
  },
  {
   "cell_type": "code",
   "execution_count": 25,
   "metadata": {},
   "outputs": [],
   "source": [
    "df_raw2_test=pd.read_csv('df_raw2_test.csv') #hold out dataset of 360\n"
   ]
  },
  {
   "cell_type": "code",
   "execution_count": 26,
   "metadata": {},
   "outputs": [],
   "source": [
    "X_test=df_raw2_test[train_cols]\n",
    "y_test=df_raw2_test[\"imdb_score\"]\n"
   ]
  },
  {
   "cell_type": "code",
   "execution_count": 27,
   "metadata": {},
   "outputs": [],
   "source": [
    "preds = m_xgb.predict(xgb.DMatrix(X_test))"
   ]
  },
  {
   "cell_type": "code",
   "execution_count": 28,
   "metadata": {},
   "outputs": [
    {
     "name": "stdout",
     "output_type": "stream",
     "text": [
      "XGB - test rmse:  0.7836648185163719\n"
     ]
    }
   ],
   "source": [
    "import sklearn.metrics as metrics\n",
    "import math\n",
    "print('XGB - test rmse: ', math.sqrt(metrics.mean_squared_error(y_test, preds)))\n",
    "#after tune 1\n",
    "#0.7836648185163719\n",
    "#base\n",
    "# XGB - test rmse:  0.7592219053252504\n",
    "# XGB - test rmse:  0.7565894072382466"
   ]
  },
  {
   "cell_type": "code",
   "execution_count": 29,
   "metadata": {},
   "outputs": [],
   "source": [
    "params = {\n",
    "        'min_child_weight': [2, 5],\n",
    "        'gamma': [0.5, 1, 2],\n",
    "        'subsample': [ 0.8],\n",
    "        'colsample_bytree': [0.9],\n",
    "        'max_depth': [3,5,10],\n",
    "        'eta':[0.039, 0.1],\n",
    "        'objective':['reg:linear'],\n",
    "        'eval_metric':['rmse']\n",
    "    \n",
    "        }"
   ]
  },
  {
   "cell_type": "code",
   "execution_count": 30,
   "metadata": {},
   "outputs": [
    {
     "name": "stdout",
     "output_type": "stream",
     "text": [
      "Fitting 2 folds for each of 36 candidates, totalling 72 fits\n"
     ]
    },
    {
     "name": "stderr",
     "output_type": "stream",
     "text": [
      "[Parallel(n_jobs=5)]: Using backend LokyBackend with 5 concurrent workers.\n",
      "[Parallel(n_jobs=5)]: Done  40 tasks      | elapsed:  1.9min\n",
      "[Parallel(n_jobs=5)]: Done  72 out of  72 | elapsed:  3.5min finished\n"
     ]
    },
    {
     "name": "stdout",
     "output_type": "stream",
     "text": [
      "\n",
      " Time taken: 0 hours 3 minutes and 36.63 seconds.\n"
     ]
    }
   ],
   "source": [
    "#run all grid search will be 45 hours so randomized search\n",
    "#from sklearn.model_selection import StratifiedKFold\n",
    "#from sklearn.model_selection import RandomizedSearchCV\n",
    "from sklearn.model_selection import GridSearchCV\n",
    "from datetime import datetime\n",
    "\n",
    "folds = 3\n",
    "param_comb = 5\n",
    "\n",
    "skf = StratifiedKFold(n_splits=folds, shuffle = True, random_state = 1001)\n",
    "\n",
    "#random_search = RandomizedSearchCV(xgb, param_distributions=params, n_iter=param_comb, scoring='roc_auc', n_jobs=4, cv=skf.split(X_train_scaled,y_train), verbose=50, random_state=2000)\n",
    "\n",
    "xgb_algo = xgb.XGBRegressor()\n",
    "# random_search = RandomizedSearchCV(xgb_algo,\n",
    "#                                    param_distributions=params, n_iter=param_comb, scoring='mse', n_jobs=4, cv=skf.split(X_train,y_train), verbose=50, random_state=2000)\n",
    "xgb_grid = GridSearchCV(xgb_algo,\n",
    "                        params,\n",
    "                        cv = 2,\n",
    "                        n_jobs = 5,\n",
    "                        verbose=True)\n",
    "# Here we go\n",
    "start_time = timer(None) # timing starts from this point for \"start_time\" variable\n",
    "#random_search.fit(X_train, y_train)\n",
    "xgb_grid.fit(X_train, y_train)\n",
    "timer(start_time) # timing ends here for \"start_time\" variable"
   ]
  },
  {
   "cell_type": "code",
   "execution_count": 33,
   "metadata": {},
   "outputs": [
    {
     "name": "stdout",
     "output_type": "stream",
     "text": [
      "0.43117337118712257\n",
      "{'colsample_bytree': 0.9, 'eta': 0.1, 'eval_metric': 'rmse', 'gamma': 1, 'max_depth': 10, 'min_child_weight': 5, 'objective': 'reg:linear', 'subsample': 0.8}\n"
     ]
    }
   ],
   "source": [
    "print(xgb_grid.best_score_)\n",
    "print(xgb_grid.best_params_)\n",
    "\n",
    "# 0.43117337118712257\n",
    "# {'colsample_bytree': 0.9, 'eta': 0.1, 'eval_metric': 'rmse', 'gamma': 1, 'max_depth': 10, 'min_child_weight': 5, 'objective': 'reg:linear', 'subsample': 0.8}"
   ]
  },
  {
   "cell_type": "code",
   "execution_count": 45,
   "metadata": {},
   "outputs": [
    {
     "data": {
      "text/plain": [
       "Text(0, 0.5, 'Feature Importance Score')"
      ]
     },
     "execution_count": 45,
     "metadata": {},
     "output_type": "execute_result"
    },
    {
     "data": {
      "image/png": "[encoded data removed]",
      "text/plain": [
       "<Figure size 1440x360 with 1 Axes>"
      ]
     },
     "metadata": {
      "needs_background": "light"
     },
     "output_type": "display_data"
    }
   ],
   "source": [
    "import matplotlib.pyplot as plt\n",
    "#Feature importance for top 50 predictors\n",
    "predictors = [x for x in X_train.columns]\n",
    "feat_imp = pd.Series(xgb_grid.best_estimator_.feature_importances_, predictors).sort_values(ascending=False)\n",
    "feat_imp = feat_imp[0:50]\n",
    "plt.rcParams['figure.figsize'] = 20, 5\n",
    "feat_imp.plot(kind='bar', title='Feature Importance')\n",
    "plt.ylabel('Feature Importance Score')"
   ]
  },
  {
   "cell_type": "code",
   "execution_count": 13,
   "metadata": {},
   "outputs": [],
   "source": [
    "# XGBoost Parameters 2\n",
    "params = {}\n",
    "#params['objective'] = 'binary:logistic' #binary:hinge\n",
    "#params['objective'] = 'multi:softmax'\n",
    "params['objective'] = 'reg:linear'\n",
    "params['eta'] = 0.1\n",
    "params['silent'] = True\n",
    "params['max_depth'] = 10\n",
    "params['subsample'] = 0.8\n",
    "params['colsample_bytree'] = 0.9\n",
    "params['eval_metric'] = 'rmse'  #aucpr: Area under the PR curve\n",
    "params['random_state'] = RANDOM_STATE\n",
    "params['gamma']=1\n",
    "params['min_child_weight']=5\n",
    "\n",
    "\n",
    "watchlist = [(dtrain, 'train'), (dvalid, 'valid')]"
   ]
  },
  {
   "cell_type": "code",
   "execution_count": 14,
   "metadata": {
    "scrolled": true
   },
   "outputs": [
    {
     "name": "stdout",
     "output_type": "stream",
     "text": [
      "[0]\ttrain-rmse:5.44860\tvalid-rmse:5.48227\n",
      "Multiple eval metrics have been passed: 'valid-rmse' will be used for early stopping.\n",
      "\n",
      "Will train until valid-rmse hasn't improved in 500 rounds.\n",
      "[50]\ttrain-rmse:0.25268\tvalid-rmse:0.70984\n",
      "[100]\ttrain-rmse:0.21978\tvalid-rmse:0.70588\n",
      "[150]\ttrain-rmse:0.21094\tvalid-rmse:0.70517\n",
      "[200]\ttrain-rmse:0.20759\tvalid-rmse:0.70555\n",
      "[250]\ttrain-rmse:0.20647\tvalid-rmse:0.70530\n",
      "[300]\ttrain-rmse:0.20569\tvalid-rmse:0.70481\n",
      "[350]\ttrain-rmse:0.20474\tvalid-rmse:0.70475\n",
      "[400]\ttrain-rmse:0.20292\tvalid-rmse:0.70434\n",
      "[450]\ttrain-rmse:0.20205\tvalid-rmse:0.70380\n",
      "[500]\ttrain-rmse:0.20152\tvalid-rmse:0.70387\n",
      "Stopping. Best iteration:\n",
      "[0]\ttrain-rmse:5.44860\tvalid-rmse:5.48227\n",
      "\n",
      "Wall time: 27.1 s\n"
     ]
    }
   ],
   "source": [
    "%%time\n",
    "\n",
    "#m_lgb = lgb.train(params, train_data, valid_sets = [fake_valid_data], verbose_eval=20) \n",
    "\n",
    "#xgb should use all data to train,should not exclude last 28 days ??\n",
    "\n",
    "m_xgb2 = xgb.train(params,\n",
    "                   dtrain,\n",
    "                   MAX_ROUNDS,\n",
    "                   watchlist,\n",
    "                   early_stopping_rounds = EARLY_STOP,\n",
    "                   maximize = True,\n",
    "                   verbose_eval = VERBOSE_EVAL)"
   ]
  },
  {
   "cell_type": "code",
   "execution_count": 39,
   "metadata": {},
   "outputs": [
    {
     "name": "stdout",
     "output_type": "stream",
     "text": [
      "XGB - test rmse:  0.7652544072121177\n"
     ]
    }
   ],
   "source": [
    "preds2 = m_xgb2.predict(xgb.DMatrix(X_test))\n",
    "import sklearn.metrics as metrics\n",
    "import math\n",
    "print('XGB - test rmse: ', math.sqrt(metrics.mean_squared_error(y_test, preds2)))\n",
    "#after tune2\n",
    "# XGB - test rmse:  0.7652544072121177\n",
    "#after tune 1\n",
    "#0.7836648185163719\n",
    "#base\n",
    "# XGB - test rmse:  0.7592219053252504\n",
    "# XGB - test rmse:  0.7565894072382466"
   ]
  },
  {
   "cell_type": "code",
   "execution_count": 17,
   "metadata": {},
   "outputs": [
    {
     "name": "stdout",
     "output_type": "stream",
     "text": [
      "Fitting 10 folds for each of 10 candidates, totalling 100 fits\n"
     ]
    },
    {
     "name": "stderr",
     "output_type": "stream",
     "text": [
      "[Parallel(n_jobs=-1)]: Using backend LokyBackend with 12 concurrent workers.\n",
      "[Parallel(n_jobs=-1)]: Done  26 tasks      | elapsed:  3.0min\n",
      "[Parallel(n_jobs=-1)]: Done 100 out of 100 | elapsed:  8.0min finished\n"
     ]
    },
    {
     "name": "stdout",
     "output_type": "stream",
     "text": [
      "\n",
      " Time taken: 0 hours 8 minutes and 6.51 seconds.\n"
     ]
    }
   ],
   "source": [
    "params2 = {\n",
    "        'min_child_weight': [1,2, 5],\n",
    "        'gamma': [0.5, 1, 2],\n",
    "        'subsample': [ 0.8,0.6],\n",
    "        'colsample_bytree': [0.9,0.6],\n",
    "        'max_depth': [2,3,4, 5,8,9,10,11,12,15],\n",
    "        'eta':[0.039,0.1, 0.5],\n",
    "        #'learning_rate':[0.039,0.1, 0.5],# [0.05],\n",
    "        'objective':['reg:linear'],\n",
    "        'eval_metric':['rmse']\n",
    "    \n",
    "        }\n",
    "\n",
    "#run all grid search will be 45 hours so randomized search\n",
    "#from sklearn.model_selection import StratifiedKFold\n",
    "from sklearn.model_selection import RandomizedSearchCV\n",
    "#from sklearn.model_selection import GridSearchCV\n",
    "from datetime import datetime\n",
    "\n",
    "# folds = 3\n",
    "# param_comb = 5\n",
    "\n",
    "# skf = StratifiedKFold(n_splits=folds, shuffle = True, random_state = 1001)\n",
    "\n",
    "#random_search = RandomizedSearchCV(xgb, param_distributions=params, n_iter=param_comb, scoring='roc_auc', n_jobs=4, cv=skf.split(X_train_scaled,y_train), verbose=50, random_state=2000)\n",
    "\n",
    "xgb_algo = xgb.XGBRegressor()\n",
    "# random_search = RandomizedSearchCV(xgb_algo,\n",
    "#                                    param_distributions=params, n_iter=param_comb, scoring='mse', n_jobs=4, cv=skf.split(X_train,y_train), verbose=50, random_state=2000)\n",
    "# xgb_grid = GridSearchCV(xgb_algo,\n",
    "#                         params,\n",
    "#                         cv = 2,\n",
    "#                         n_jobs = 5,\n",
    "#                         verbose=True)\n",
    "\n",
    "grid2 = RandomizedSearchCV(xgb_algo,params2,verbose=1,cv=10,n_jobs = -1,n_iter=10)\n",
    "\n",
    "# Here we go\n",
    "start_time = timer(None) # timing starts from this point for \"start_time\" variable\n",
    "grid2.fit(X_train,y_train)\n",
    "#random_search.fit(X_train, y_train)\n",
    "#xgb_grid.fit(X_train, y_train)\n",
    "timer(start_time) # timing ends here for \"start_time\" variable"
   ]
  },
  {
   "cell_type": "code",
   "execution_count": 14,
   "metadata": {},
   "outputs": [
    {
     "data": {
      "text/plain": [
       "{'subsample': 0.8,\n",
       " 'objective': 'reg:linear',\n",
       " 'min_child_weight': 5,\n",
       " 'max_depth': 5,\n",
       " 'gamma': 0.5,\n",
       " 'eval_metric': 'rmse',\n",
       " 'eta': 0.039,\n",
       " 'colsample_bytree': 0.9}"
      ]
     },
     "execution_count": 14,
     "metadata": {},
     "output_type": "execute_result"
    }
   ],
   "source": [
    "grid2.best_params_\n"
   ]
  },
  {
   "cell_type": "code",
   "execution_count": 42,
   "metadata": {},
   "outputs": [
    {
     "name": "stdout",
     "output_type": "stream",
     "text": [
      "XGB - test rmse:  0.7662625394442705\n"
     ]
    }
   ],
   "source": [
    "preds2 = grid2.predict(X_test)\n",
    "# m_lgb.save_model(\"modelLGB.lgb\")\n",
    "import sklearn.metrics as metrics\n",
    "import math\n",
    "print('XGB - test rmse: ', math.sqrt(metrics.mean_squared_error(y_test, preds2)))"
   ]
  },
  {
   "cell_type": "code",
   "execution_count": 46,
   "metadata": {},
   "outputs": [
    {
     "data": {
      "text/plain": [
       "Text(0, 0.5, 'Feature Importance Score')"
      ]
     },
     "execution_count": 46,
     "metadata": {},
     "output_type": "execute_result"
    },
    {
     "data": {
      "image/png": "[encoded data removed]",
      "text/plain": [
       "<Figure size 1440x360 with 1 Axes>"
      ]
     },
     "metadata": {
      "needs_background": "light"
     },
     "output_type": "display_data"
    }
   ],
   "source": [
    "import matplotlib.pyplot as plt\n",
    "#Feature importance for top 50 predictors\n",
    "predictors = [x for x in X_train.columns]\n",
    "feat_imp = pd.Series(grid2.best_estimator_.feature_importances_, predictors).sort_values(ascending=False)\n",
    "feat_imp = feat_imp[0:50]\n",
    "plt.rcParams['figure.figsize'] = 20, 5\n",
    "feat_imp.plot(kind='bar', title='Feature Importance of XGB model')\n",
    "plt.ylabel('Feature Importance Score')"
   ]
  },
  {
   "cell_type": "code",
   "execution_count": null,
   "metadata": {},
   "outputs": [],
   "source": [
    "#round3 randomied XGB - test rmse:  0.7662625394442705\n",
    "\n",
    "#after tune2\n",
    "# XGB - test rmse:  0.7652544072121177\n",
    "#after tune 1\n",
    "#0.7836648185163719\n",
    "#base\n",
    "# XGB - test rmse:  0.7592219053252504\n",
    "# XGB - test rmse:  0.7565894072382466   #best xgb so far"
   ]
  },
  {
   "cell_type": "code",
   "execution_count": 48,
   "metadata": {},
   "outputs": [
    {
     "data": {
      "text/plain": [
       "Drama                        0.026657\n",
       "num_voted_users              0.014918\n",
       "content_rating_R             0.010418\n",
       "movie_facebook_likes         0.009266\n",
       "duration                     0.008757\n",
       "language_English             0.008339\n",
       "231                          0.007662\n",
       "content_rating_PG-13         0.007096\n",
       "26                           0.007057\n",
       "country_USA                  0.005687\n",
       "cast_total_facebook_likes    0.005665\n",
       "510                          0.005509\n",
       "budget                       0.005174\n",
       "138                          0.005128\n",
       "509                          0.004846\n",
       "Horror                       0.004722\n",
       "num_critic_for_reviews       0.004646\n",
       "255                          0.004509\n",
       "actor_1_facebook_likes       0.004502\n",
       "PC5                          0.004499\n",
       "283                          0.004442\n",
       "119                          0.004441\n",
       "num_user_for_reviews         0.004335\n",
       "163                          0.004335\n",
       "49                           0.004215\n",
       "PC19                         0.004015\n",
       "19                           0.004002\n",
       "367                          0.003973\n",
       "Animation                    0.003932\n",
       "8                            0.003929\n",
       "92                           0.003904\n",
       "356                          0.003815\n",
       "Documentary                  0.003778\n",
       "430                          0.003762\n",
       "director_facebook_likes      0.003727\n",
       "471                          0.003668\n",
       "Comedy                       0.003664\n",
       "title_year                   0.003664\n",
       "133                          0.003651\n",
       "307                          0.003648\n",
       "459                          0.003614\n",
       "content_rating_PG            0.003589\n",
       "414                          0.003585\n",
       "32                           0.003536\n",
       "343                          0.003510\n",
       "496                          0.003453\n",
       "PC16                         0.003442\n",
       "2                            0.003396\n",
       "351                          0.003385\n",
       "299                          0.003349\n",
       "dtype: float32"
      ]
     },
     "execution_count": 48,
     "metadata": {},
     "output_type": "execute_result"
    }
   ],
   "source": [
    "feat_imp\n"
   ]
  },
  {
   "cell_type": "code",
   "execution_count": 18,
   "metadata": {},
   "outputs": [
    {
     "name": "stdout",
     "output_type": "stream",
     "text": [
      "Collecting graphviz\n",
      "  Downloading graphviz-0.14-py2.py3-none-any.whl (18 kB)\n",
      "Installing collected packages: graphviz\n",
      "Successfully installed graphviz-0.14\n",
      "Note: you may need to restart the kernel to use updated packages.\n"
     ]
    }
   ],
   "source": [
    "# pip install graphviz"
   ]
  },
  {
   "cell_type": "code",
   "execution_count": 21,
   "metadata": {},
   "outputs": [
    {
     "ename": "ExecutableNotFound",
     "evalue": "failed to execute ['dot', '-Tpng'], make sure the Graphviz executables are on your systems' PATH",
     "output_type": "error",
     "traceback": [
      "\u001b[1;31m---------------------------------------------------------------------------\u001b[0m",
      "\u001b[1;31mFileNotFoundError\u001b[0m                         Traceback (most recent call last)",
      "\u001b[1;32mC:\\ProgramData\\Anaconda3\\lib\\site-packages\\graphviz\\backend.py\u001b[0m in \u001b[0;36mrun\u001b[1;34m(cmd, input, capture_output, check, encoding, quiet, **kwargs)\u001b[0m\n\u001b[0;32m    163\u001b[0m     \u001b[1;32mtry\u001b[0m\u001b[1;33m:\u001b[0m\u001b[1;33m\u001b[0m\u001b[1;33m\u001b[0m\u001b[0m\n\u001b[1;32m--> 164\u001b[1;33m         \u001b[0mproc\u001b[0m \u001b[1;33m=\u001b[0m \u001b[0msubprocess\u001b[0m\u001b[1;33m.\u001b[0m\u001b[0mPopen\u001b[0m\u001b[1;33m(\u001b[0m\u001b[0mcmd\u001b[0m\u001b[1;33m,\u001b[0m \u001b[0mstartupinfo\u001b[0m\u001b[1;33m=\u001b[0m\u001b[0mget_startupinfo\u001b[0m\u001b[1;33m(\u001b[0m\u001b[1;33m)\u001b[0m\u001b[1;33m,\u001b[0m \u001b[1;33m**\u001b[0m\u001b[0mkwargs\u001b[0m\u001b[1;33m)\u001b[0m\u001b[1;33m\u001b[0m\u001b[1;33m\u001b[0m\u001b[0m\n\u001b[0m\u001b[0;32m    165\u001b[0m     \u001b[1;32mexcept\u001b[0m \u001b[0mOSError\u001b[0m \u001b[1;32mas\u001b[0m \u001b[0me\u001b[0m\u001b[1;33m:\u001b[0m\u001b[1;33m\u001b[0m\u001b[1;33m\u001b[0m\u001b[0m\n",
      "\u001b[1;32mC:\\ProgramData\\Anaconda3\\lib\\subprocess.py\u001b[0m in \u001b[0;36m__init__\u001b[1;34m(self, args, bufsize, executable, stdin, stdout, stderr, preexec_fn, close_fds, shell, cwd, env, universal_newlines, startupinfo, creationflags, restore_signals, start_new_session, pass_fds, encoding, errors, text)\u001b[0m\n\u001b[0;32m    799\u001b[0m                                 \u001b[0merrread\u001b[0m\u001b[1;33m,\u001b[0m \u001b[0merrwrite\u001b[0m\u001b[1;33m,\u001b[0m\u001b[1;33m\u001b[0m\u001b[1;33m\u001b[0m\u001b[0m\n\u001b[1;32m--> 800\u001b[1;33m                                 restore_signals, start_new_session)\n\u001b[0m\u001b[0;32m    801\u001b[0m         \u001b[1;32mexcept\u001b[0m\u001b[1;33m:\u001b[0m\u001b[1;33m\u001b[0m\u001b[1;33m\u001b[0m\u001b[0m\n",
      "\u001b[1;32mC:\\ProgramData\\Anaconda3\\lib\\subprocess.py\u001b[0m in \u001b[0;36m_execute_child\u001b[1;34m(self, args, executable, preexec_fn, close_fds, pass_fds, cwd, env, startupinfo, creationflags, shell, p2cread, p2cwrite, c2pread, c2pwrite, errread, errwrite, unused_restore_signals, unused_start_new_session)\u001b[0m\n\u001b[0;32m   1206\u001b[0m                                          \u001b[0mos\u001b[0m\u001b[1;33m.\u001b[0m\u001b[0mfspath\u001b[0m\u001b[1;33m(\u001b[0m\u001b[0mcwd\u001b[0m\u001b[1;33m)\u001b[0m \u001b[1;32mif\u001b[0m \u001b[0mcwd\u001b[0m \u001b[1;32mis\u001b[0m \u001b[1;32mnot\u001b[0m \u001b[1;32mNone\u001b[0m \u001b[1;32melse\u001b[0m \u001b[1;32mNone\u001b[0m\u001b[1;33m,\u001b[0m\u001b[1;33m\u001b[0m\u001b[1;33m\u001b[0m\u001b[0m\n\u001b[1;32m-> 1207\u001b[1;33m                                          startupinfo)\n\u001b[0m\u001b[0;32m   1208\u001b[0m             \u001b[1;32mfinally\u001b[0m\u001b[1;33m:\u001b[0m\u001b[1;33m\u001b[0m\u001b[1;33m\u001b[0m\u001b[0m\n",
      "\u001b[1;31mFileNotFoundError\u001b[0m: [WinError 2] The system cannot find the file specified",
      "\nDuring handling of the above exception, another exception occurred:\n",
      "\u001b[1;31mExecutableNotFound\u001b[0m                        Traceback (most recent call last)",
      "\u001b[1;32m<ipython-input-21-872f249c6f90>\u001b[0m in \u001b[0;36m<module>\u001b[1;34m\u001b[0m\n\u001b[0;32m      1\u001b[0m \u001b[1;32mfrom\u001b[0m \u001b[0mxgboost\u001b[0m \u001b[1;32mimport\u001b[0m \u001b[0mplot_tree\u001b[0m\u001b[1;33m\u001b[0m\u001b[1;33m\u001b[0m\u001b[0m\n\u001b[0;32m      2\u001b[0m \u001b[1;32mimport\u001b[0m \u001b[0mmatplotlib\u001b[0m\u001b[1;33m.\u001b[0m\u001b[0mpyplot\u001b[0m \u001b[1;32mas\u001b[0m \u001b[0mplt\u001b[0m\u001b[1;33m\u001b[0m\u001b[1;33m\u001b[0m\u001b[0m\n\u001b[1;32m----> 3\u001b[1;33m \u001b[0mplot_tree\u001b[0m\u001b[1;33m(\u001b[0m\u001b[0mm_xgb2\u001b[0m\u001b[1;33m)\u001b[0m\u001b[1;33m\u001b[0m\u001b[1;33m\u001b[0m\u001b[0m\n\u001b[0m\u001b[0;32m      4\u001b[0m \u001b[0mplt\u001b[0m\u001b[1;33m.\u001b[0m\u001b[0mshow\u001b[0m\u001b[1;33m(\u001b[0m\u001b[1;33m)\u001b[0m\u001b[1;33m\u001b[0m\u001b[1;33m\u001b[0m\u001b[0m\n",
      "\u001b[1;32mC:\\ProgramData\\Anaconda3\\lib\\site-packages\\xgboost\\plotting.py\u001b[0m in \u001b[0;36mplot_tree\u001b[1;34m(booster, fmap, num_trees, rankdir, ax, **kwargs)\u001b[0m\n\u001b[0;32m    244\u001b[0m \u001b[1;33m\u001b[0m\u001b[0m\n\u001b[0;32m    245\u001b[0m     \u001b[0ms\u001b[0m \u001b[1;33m=\u001b[0m \u001b[0mBytesIO\u001b[0m\u001b[1;33m(\u001b[0m\u001b[1;33m)\u001b[0m\u001b[1;33m\u001b[0m\u001b[1;33m\u001b[0m\u001b[0m\n\u001b[1;32m--> 246\u001b[1;33m     \u001b[0ms\u001b[0m\u001b[1;33m.\u001b[0m\u001b[0mwrite\u001b[0m\u001b[1;33m(\u001b[0m\u001b[0mg\u001b[0m\u001b[1;33m.\u001b[0m\u001b[0mpipe\u001b[0m\u001b[1;33m(\u001b[0m\u001b[0mformat\u001b[0m\u001b[1;33m=\u001b[0m\u001b[1;34m'png'\u001b[0m\u001b[1;33m)\u001b[0m\u001b[1;33m)\u001b[0m\u001b[1;33m\u001b[0m\u001b[1;33m\u001b[0m\u001b[0m\n\u001b[0m\u001b[0;32m    247\u001b[0m     \u001b[0ms\u001b[0m\u001b[1;33m.\u001b[0m\u001b[0mseek\u001b[0m\u001b[1;33m(\u001b[0m\u001b[1;36m0\u001b[0m\u001b[1;33m)\u001b[0m\u001b[1;33m\u001b[0m\u001b[1;33m\u001b[0m\u001b[0m\n\u001b[0;32m    248\u001b[0m     \u001b[0mimg\u001b[0m \u001b[1;33m=\u001b[0m \u001b[0mimage\u001b[0m\u001b[1;33m.\u001b[0m\u001b[0mimread\u001b[0m\u001b[1;33m(\u001b[0m\u001b[0ms\u001b[0m\u001b[1;33m)\u001b[0m\u001b[1;33m\u001b[0m\u001b[1;33m\u001b[0m\u001b[0m\n",
      "\u001b[1;32mC:\\ProgramData\\Anaconda3\\lib\\site-packages\\graphviz\\files.py\u001b[0m in \u001b[0;36mpipe\u001b[1;34m(self, format, renderer, formatter, quiet)\u001b[0m\n\u001b[0;32m    136\u001b[0m         out = backend.pipe(self._engine, format, data,\n\u001b[0;32m    137\u001b[0m                            \u001b[0mrenderer\u001b[0m\u001b[1;33m=\u001b[0m\u001b[0mrenderer\u001b[0m\u001b[1;33m,\u001b[0m \u001b[0mformatter\u001b[0m\u001b[1;33m=\u001b[0m\u001b[0mformatter\u001b[0m\u001b[1;33m,\u001b[0m\u001b[1;33m\u001b[0m\u001b[1;33m\u001b[0m\u001b[0m\n\u001b[1;32m--> 138\u001b[1;33m                            quiet=quiet)\n\u001b[0m\u001b[0;32m    139\u001b[0m \u001b[1;33m\u001b[0m\u001b[0m\n\u001b[0;32m    140\u001b[0m         \u001b[1;32mreturn\u001b[0m \u001b[0mout\u001b[0m\u001b[1;33m\u001b[0m\u001b[1;33m\u001b[0m\u001b[0m\n",
      "\u001b[1;32mC:\\ProgramData\\Anaconda3\\lib\\site-packages\\graphviz\\backend.py\u001b[0m in \u001b[0;36mpipe\u001b[1;34m(engine, format, data, renderer, formatter, quiet)\u001b[0m\n\u001b[0;32m    242\u001b[0m     \"\"\"\n\u001b[0;32m    243\u001b[0m     \u001b[0mcmd\u001b[0m\u001b[1;33m,\u001b[0m \u001b[0m_\u001b[0m \u001b[1;33m=\u001b[0m \u001b[0mcommand\u001b[0m\u001b[1;33m(\u001b[0m\u001b[0mengine\u001b[0m\u001b[1;33m,\u001b[0m \u001b[0mformat\u001b[0m\u001b[1;33m,\u001b[0m \u001b[1;32mNone\u001b[0m\u001b[1;33m,\u001b[0m \u001b[0mrenderer\u001b[0m\u001b[1;33m,\u001b[0m \u001b[0mformatter\u001b[0m\u001b[1;33m)\u001b[0m\u001b[1;33m\u001b[0m\u001b[1;33m\u001b[0m\u001b[0m\n\u001b[1;32m--> 244\u001b[1;33m     \u001b[0mout\u001b[0m\u001b[1;33m,\u001b[0m \u001b[0m_\u001b[0m \u001b[1;33m=\u001b[0m \u001b[0mrun\u001b[0m\u001b[1;33m(\u001b[0m\u001b[0mcmd\u001b[0m\u001b[1;33m,\u001b[0m \u001b[0minput\u001b[0m\u001b[1;33m=\u001b[0m\u001b[0mdata\u001b[0m\u001b[1;33m,\u001b[0m \u001b[0mcapture_output\u001b[0m\u001b[1;33m=\u001b[0m\u001b[1;32mTrue\u001b[0m\u001b[1;33m,\u001b[0m \u001b[0mcheck\u001b[0m\u001b[1;33m=\u001b[0m\u001b[1;32mTrue\u001b[0m\u001b[1;33m,\u001b[0m \u001b[0mquiet\u001b[0m\u001b[1;33m=\u001b[0m\u001b[0mquiet\u001b[0m\u001b[1;33m)\u001b[0m\u001b[1;33m\u001b[0m\u001b[1;33m\u001b[0m\u001b[0m\n\u001b[0m\u001b[0;32m    245\u001b[0m     \u001b[1;32mreturn\u001b[0m \u001b[0mout\u001b[0m\u001b[1;33m\u001b[0m\u001b[1;33m\u001b[0m\u001b[0m\n\u001b[0;32m    246\u001b[0m \u001b[1;33m\u001b[0m\u001b[0m\n",
      "\u001b[1;32mC:\\ProgramData\\Anaconda3\\lib\\site-packages\\graphviz\\backend.py\u001b[0m in \u001b[0;36mrun\u001b[1;34m(cmd, input, capture_output, check, encoding, quiet, **kwargs)\u001b[0m\n\u001b[0;32m    165\u001b[0m     \u001b[1;32mexcept\u001b[0m \u001b[0mOSError\u001b[0m \u001b[1;32mas\u001b[0m \u001b[0me\u001b[0m\u001b[1;33m:\u001b[0m\u001b[1;33m\u001b[0m\u001b[1;33m\u001b[0m\u001b[0m\n\u001b[0;32m    166\u001b[0m         \u001b[1;32mif\u001b[0m \u001b[0me\u001b[0m\u001b[1;33m.\u001b[0m\u001b[0merrno\u001b[0m \u001b[1;33m==\u001b[0m \u001b[0merrno\u001b[0m\u001b[1;33m.\u001b[0m\u001b[0mENOENT\u001b[0m\u001b[1;33m:\u001b[0m\u001b[1;33m\u001b[0m\u001b[1;33m\u001b[0m\u001b[0m\n\u001b[1;32m--> 167\u001b[1;33m             \u001b[1;32mraise\u001b[0m \u001b[0mExecutableNotFound\u001b[0m\u001b[1;33m(\u001b[0m\u001b[0mcmd\u001b[0m\u001b[1;33m)\u001b[0m\u001b[1;33m\u001b[0m\u001b[1;33m\u001b[0m\u001b[0m\n\u001b[0m\u001b[0;32m    168\u001b[0m         \u001b[1;32melse\u001b[0m\u001b[1;33m:\u001b[0m\u001b[1;33m\u001b[0m\u001b[1;33m\u001b[0m\u001b[0m\n\u001b[0;32m    169\u001b[0m             \u001b[1;32mraise\u001b[0m\u001b[1;33m\u001b[0m\u001b[1;33m\u001b[0m\u001b[0m\n",
      "\u001b[1;31mExecutableNotFound\u001b[0m: failed to execute ['dot', '-Tpng'], make sure the Graphviz executables are on your systems' PATH"
     ]
    },
    {
     "data": {
      "image/png": "[encoded data removed]",
      "text/plain": [
       "<Figure size 432x288 with 1 Axes>"
      ]
     },
     "metadata": {
      "needs_background": "light"
     },
     "output_type": "display_data"
    }
   ],
   "source": [
    "from xgboost import plot_tree\n",
    "import matplotlib.pyplot as plt\n",
    "plot_tree(m_xgb2)\n",
    "plt.show()"
   ]
  },
  {
   "cell_type": "code",
   "execution_count": 20,
   "metadata": {},
   "outputs": [],
   "source": [
    "import graphviz"
   ]
  },
  {
   "cell_type": "code",
   "execution_count": null,
   "metadata": {},
   "outputs": [],
   "source": []
  }
 ],
 "metadata": {
  "kernelspec": {
   "display_name": "Python 3",
   "language": "python",
   "name": "python3"
  },
  "language_info": {
   "codemirror_mode": {
    "name": "ipython",
    "version": 3
   },
   "file_extension": ".py",
   "mimetype": "text/x-python",
   "name": "python",
   "nbconvert_exporter": "python",
   "pygments_lexer": "ipython3",
   "version": "3.7.6"
  }
 },
 "nbformat": 4,
 "nbformat_minor": 4
}
